{
 "cells": [
  {
   "cell_type": "code",
   "execution_count": 2,
   "metadata": {},
   "outputs": [],
   "source": [
    "import pandas as pd\n",
    "import numpy as np\n",
    "import geopandas as gpd\n",
    "from matplotlib import pyplot as plt\n",
    "import folium"
   ]
  },
  {
   "cell_type": "code",
   "execution_count": 3,
   "metadata": {},
   "outputs": [
    {
     "data": {
      "text/html": [
       "<div>\n",
       "<style scoped>\n",
       "    .dataframe tbody tr th:only-of-type {\n",
       "        vertical-align: middle;\n",
       "    }\n",
       "\n",
       "    .dataframe tbody tr th {\n",
       "        vertical-align: top;\n",
       "    }\n",
       "\n",
       "    .dataframe thead th {\n",
       "        text-align: right;\n",
       "    }\n",
       "</style>\n",
       "<table border=\"1\" class=\"dataframe\">\n",
       "  <thead>\n",
       "    <tr style=\"text-align: right;\">\n",
       "      <th></th>\n",
       "      <th>x</th>\n",
       "      <th>y</th>\n",
       "      <th>Distance</th>\n",
       "      <th>geometry</th>\n",
       "    </tr>\n",
       "  </thead>\n",
       "  <tbody>\n",
       "    <tr>\n",
       "      <th>0</th>\n",
       "      <td>-73.962176</td>\n",
       "      <td>40.792024</td>\n",
       "      <td>1458.626953</td>\n",
       "      <td>POINT (-73.96218 40.79202)</td>\n",
       "    </tr>\n",
       "    <tr>\n",
       "      <th>1</th>\n",
       "      <td>-73.963576</td>\n",
       "      <td>40.790720</td>\n",
       "      <td>1275.385010</td>\n",
       "      <td>POINT (-73.96358 40.79072)</td>\n",
       "    </tr>\n",
       "    <tr>\n",
       "      <th>2</th>\n",
       "      <td>-73.964181</td>\n",
       "      <td>40.788475</td>\n",
       "      <td>1075.475952</td>\n",
       "      <td>POINT (-73.96418 40.78848)</td>\n",
       "    </tr>\n",
       "    <tr>\n",
       "      <th>3</th>\n",
       "      <td>-73.966988</td>\n",
       "      <td>40.785589</td>\n",
       "      <td>744.629028</td>\n",
       "      <td>POINT (-73.96699 40.78559)</td>\n",
       "    </tr>\n",
       "    <tr>\n",
       "      <th>4</th>\n",
       "      <td>-73.973425</td>\n",
       "      <td>40.774267</td>\n",
       "      <td>1233.833008</td>\n",
       "      <td>POINT (-73.97343 40.77427)</td>\n",
       "    </tr>\n",
       "  </tbody>\n",
       "</table>\n",
       "</div>"
      ],
      "text/plain": [
       "           x          y     Distance                    geometry\n",
       "0 -73.962176  40.792024  1458.626953  POINT (-73.96218 40.79202)\n",
       "1 -73.963576  40.790720  1275.385010  POINT (-73.96358 40.79072)\n",
       "2 -73.964181  40.788475  1075.475952  POINT (-73.96418 40.78848)\n",
       "3 -73.966988  40.785589   744.629028  POINT (-73.96699 40.78559)\n",
       "4 -73.973425  40.774267  1233.833008  POINT (-73.97343 40.77427)"
      ]
     },
     "execution_count": 3,
     "metadata": {},
     "output_type": "execute_result"
    }
   ],
   "source": [
    "nodes_NYC = gpd.read_file('data/nodes_NYC.geojson')\n",
    "\n",
    "# check first five rows\n",
    "nodes_NYC.head()"
   ]
  },
  {
   "cell_type": "code",
   "execution_count": 4,
   "metadata": {},
   "outputs": [],
   "source": [
    "nodes_NYC_under2000 =  nodes_NYC.loc[(nodes_NYC[\"Distance\"] < 2000)]\n",
    "nodes_NYC_halfmile =  nodes_NYC.loc[(nodes_NYC[\"Distance\"] < 804.672)]"
   ]
  },
  {
   "cell_type": "code",
   "execution_count": 5,
   "metadata": {},
   "outputs": [],
   "source": [
    "merged_NYC_tracts_SVI = gpd.read_file('data/merged_NYC_tracts_SVI.geojson')\n",
    "merged_NYC_tracts_SVI = merged_NYC_tracts_SVI.to_crs(epsg=4326)"
   ]
  },
  {
   "cell_type": "code",
   "execution_count": 6,
   "metadata": {},
   "outputs": [],
   "source": [
    "hurricane_evac_zones = gpd.read_file('data/Hurricane_Evacuation_Zones.geojson')\n",
    "hurricane_evac_zones = hurricane_evac_zones.to_crs(epsg=4326)\n",
    "\n",
    "hurricane_evac_zones = hurricane_evac_zones.rename(columns={\"hurricane\": \"Zone\"})\n",
    "hurricane_evac_zones = hurricane_evac_zones.loc[(hurricane_evac_zones[\"Zone\"] != \"X\") & (hurricane_evac_zones[\"Zone\"] != \"7\")]"
   ]
  },
  {
   "cell_type": "code",
   "execution_count": 7,
   "metadata": {},
   "outputs": [
    {
     "data": {
      "text/html": [
       "<div>\n",
       "<style scoped>\n",
       "    .dataframe tbody tr th:only-of-type {\n",
       "        vertical-align: middle;\n",
       "    }\n",
       "\n",
       "    .dataframe tbody tr th {\n",
       "        vertical-align: top;\n",
       "    }\n",
       "\n",
       "    .dataframe thead th {\n",
       "        text-align: right;\n",
       "    }\n",
       "</style>\n",
       "<table border=\"1\" class=\"dataframe\">\n",
       "  <thead>\n",
       "    <tr style=\"text-align: right;\">\n",
       "      <th></th>\n",
       "      <th>Zone</th>\n",
       "      <th>shape_area</th>\n",
       "      <th>shape_leng</th>\n",
       "      <th>geometry</th>\n",
       "    </tr>\n",
       "  </thead>\n",
       "  <tbody>\n",
       "    <tr>\n",
       "      <th>0</th>\n",
       "      <td>1</td>\n",
       "      <td>1331438777.89</td>\n",
       "      <td>2855052.33819</td>\n",
       "      <td>MULTIPOLYGON (((-74.21178 40.50819, -74.21179 ...</td>\n",
       "    </tr>\n",
       "    <tr>\n",
       "      <th>2</th>\n",
       "      <td>2</td>\n",
       "      <td>851138147.323</td>\n",
       "      <td>1787662.0299</td>\n",
       "      <td>MULTIPOLYGON (((-74.23843 40.50268, -74.23833 ...</td>\n",
       "    </tr>\n",
       "    <tr>\n",
       "      <th>3</th>\n",
       "      <td>3</td>\n",
       "      <td>390838625.801</td>\n",
       "      <td>1448569.7833</td>\n",
       "      <td>MULTIPOLYGON (((-74.22929 40.50400, -74.23055 ...</td>\n",
       "    </tr>\n",
       "    <tr>\n",
       "      <th>4</th>\n",
       "      <td>4</td>\n",
       "      <td>484377534.999</td>\n",
       "      <td>1599416.25916</td>\n",
       "      <td>MULTIPOLYGON (((-74.24885 40.50074, -74.24961 ...</td>\n",
       "    </tr>\n",
       "    <tr>\n",
       "      <th>5</th>\n",
       "      <td>6</td>\n",
       "      <td>541629414.584</td>\n",
       "      <td>2007990.98836</td>\n",
       "      <td>MULTIPOLYGON (((-74.23826 40.50402, -74.23934 ...</td>\n",
       "    </tr>\n",
       "  </tbody>\n",
       "</table>\n",
       "</div>"
      ],
      "text/plain": [
       "  Zone     shape_area     shape_leng  \\\n",
       "0    1  1331438777.89  2855052.33819   \n",
       "2    2  851138147.323   1787662.0299   \n",
       "3    3  390838625.801   1448569.7833   \n",
       "4    4  484377534.999  1599416.25916   \n",
       "5    6  541629414.584  2007990.98836   \n",
       "\n",
       "                                            geometry  \n",
       "0  MULTIPOLYGON (((-74.21178 40.50819, -74.21179 ...  \n",
       "2  MULTIPOLYGON (((-74.23843 40.50268, -74.23833 ...  \n",
       "3  MULTIPOLYGON (((-74.22929 40.50400, -74.23055 ...  \n",
       "4  MULTIPOLYGON (((-74.24885 40.50074, -74.24961 ...  \n",
       "5  MULTIPOLYGON (((-74.23826 40.50402, -74.23934 ...  "
      ]
     },
     "execution_count": 7,
     "metadata": {},
     "output_type": "execute_result"
    }
   ],
   "source": [
    "hurricane_evac_zones.head()"
   ]
  },
  {
   "cell_type": "code",
   "execution_count": 8,
   "metadata": {},
   "outputs": [],
   "source": [
    "# just zone 1\n",
    "hurricane_evac_zone1 = hurricane_evac_zones.loc[(hurricane_evac_zones[\"Zone\"] == \"1\")]"
   ]
  },
  {
   "cell_type": "code",
   "execution_count": 11,
   "metadata": {},
   "outputs": [
    {
     "data": {
      "text/html": [
       "<div>\n",
       "<style scoped>\n",
       "    .dataframe tbody tr th:only-of-type {\n",
       "        vertical-align: middle;\n",
       "    }\n",
       "\n",
       "    .dataframe tbody tr th {\n",
       "        vertical-align: top;\n",
       "    }\n",
       "\n",
       "    .dataframe thead th {\n",
       "        text-align: right;\n",
       "    }\n",
       "</style>\n",
       "<table border=\"1\" class=\"dataframe\">\n",
       "  <thead>\n",
       "    <tr style=\"text-align: right;\">\n",
       "      <th></th>\n",
       "      <th>Zone</th>\n",
       "      <th>shape_area</th>\n",
       "      <th>shape_leng</th>\n",
       "      <th>geometry</th>\n",
       "    </tr>\n",
       "  </thead>\n",
       "  <tbody>\n",
       "    <tr>\n",
       "      <th>0</th>\n",
       "      <td>1</td>\n",
       "      <td>1331438777.89</td>\n",
       "      <td>2855052.33819</td>\n",
       "      <td>MULTIPOLYGON (((-74.21178 40.50819, -74.21179 ...</td>\n",
       "    </tr>\n",
       "  </tbody>\n",
       "</table>\n",
       "</div>"
      ],
      "text/plain": [
       "  Zone     shape_area     shape_leng  \\\n",
       "0    1  1331438777.89  2855052.33819   \n",
       "\n",
       "                                            geometry  \n",
       "0  MULTIPOLYGON (((-74.21178 40.50819, -74.21179 ...  "
      ]
     },
     "execution_count": 11,
     "metadata": {},
     "output_type": "execute_result"
    }
   ],
   "source": [
    "# confirm\n",
    "hurricane_evac_zone1"
   ]
  },
  {
   "cell_type": "code",
   "execution_count": 13,
   "metadata": {},
   "outputs": [],
   "source": [
    "# define master aesthetic functions\n",
    "def get_tract_style(feature):\n",
    "    \"\"\"Return a style dict.\"\"\"\n",
    "    return {\"weight\": 2, \"color\": \"white\"}\n",
    "\n",
    "\n",
    "def get_zones_style(feature):\n",
    "    \"\"\"Return a style dict.\"\"\"\n",
    "    return {\"weight\": 1, \"color\": \"red\", \"fillOpacity\": 0.3}\n",
    "\n",
    "\n",
    "def get_highlighted_style(feature):\n",
    "    \"\"\"Return a style dict when highlighting a feature.\"\"\"\n",
    "    return {\"weight\": 2, \"color\": \"grey\"}"
   ]
  },
  {
   "cell_type": "code",
   "execution_count": 16,
   "metadata": {},
   "outputs": [],
   "source": [
    "import matplotlib.colors as mcolors\n",
    "# use a reversed viridis color scheme for consistency\n",
    "cmap = plt.get_cmap('viridis_r')"
   ]
  },
  {
   "cell_type": "code",
   "execution_count": 17,
   "metadata": {},
   "outputs": [],
   "source": [
    "# define style function for SVI Overall\n",
    "def get_style1(feature):\n",
    "    # get the data value from the feature\n",
    "    value = feature['properties']['SVI_Overall']\n",
    "    \n",
    "    # evaluate the color map\n",
    "    # NOTE: value must between 0 and 1\n",
    "    rgb_color = cmap(value) # this is a RGB tuple\n",
    "    \n",
    "    # convert to hex string\n",
    "    color = mcolors.rgb2hex(rgb_color)\n",
    "    \n",
    "    # return the style dictionary\n",
    "    return {'weight': 0.25, 'color': color, 'fillColor': color, \"fillOpacity\": 0.5}"
   ]
  },
  {
   "cell_type": "code",
   "execution_count": 18,
   "metadata": {},
   "outputs": [],
   "source": [
    "# Normalize pop density column - very skewed\n",
    "x = merged_NYC_tracts_SVI['Population_Density']\n",
    "merged_NYC_tracts_SVI['Population_Density_normalized'] = (x - x.min()) / (x.max() - x.min())"
   ]
  },
  {
   "cell_type": "code",
   "execution_count": 20,
   "metadata": {},
   "outputs": [],
   "source": [
    "# Define style function for Population Density\n",
    "\n",
    "def get_style2(feature):\n",
    "    # get the data value from the feature\n",
    "    value = feature['properties']['Population_Density_normalized']\n",
    "    \n",
    "    # evaluate the color map\n",
    "    # NOTE: value must between 0 and 1\n",
    "    rgb_color = cmap(value) # this is a RGB tuple\n",
    "    \n",
    "    # convert to hex string\n",
    "    color = mcolors.rgb2hex(rgb_color)\n",
    "    \n",
    "    # return the style dictionary\n",
    "    return {'weight': 0.25, 'color': color, 'fillColor': color, \"fillOpacity\": 0.5}"
   ]
  },
  {
   "cell_type": "code",
   "execution_count": 21,
   "metadata": {},
   "outputs": [],
   "source": [
    "# Convert to json\n",
    "nodes_NYC_halfmile_json = nodes_NYC_halfmile.to_json()\n",
    "merged_NYC_tracts_SVI_json = merged_NYC_tracts_SVI.to_json()\n",
    "hurricane_evac_zones_json = hurricane_evac_zones.to_json()\n",
    "hurricane_evac_zone1_json = hurricane_evac_zone1.to_json()"
   ]
  },
  {
   "cell_type": "code",
   "execution_count": 22,
   "metadata": {},
   "outputs": [],
   "source": [
    "# Define style for hurricane evac zone 1\n",
    "style3 = {'fillColor': '#D22B2B', 'color': '#D22B2B', 'weight': 0, 'fillOpacity':0.9}    "
   ]
  },
  {
   "cell_type": "code",
   "execution_count": 24,
   "metadata": {},
   "outputs": [],
   "source": [
    "# MAP\n",
    "map_master = folium.Map(\n",
    "    location=[40.71, -74.00],\n",
    "    tiles=None,\n",
    "    zoom_start=11.25\n",
    ")\n",
    "\n",
    "base_map = folium.FeatureGroup(name='Basemap', overlay=True, control=False)\n",
    "folium.TileLayer(tiles='CartoDB positron').add_to(base_map)\n",
    "base_map.add_to(map_master)\n",
    "\n",
    "# add the GeoJson to the map\n",
    "folium.GeoJson(\n",
    "    merged_NYC_tracts_SVI_json,\n",
    "    name='Overall Social Vulnerability Index',\n",
    "    style_function=get_style1,\n",
    "    highlight_function=get_highlighted_style,\n",
    "    overlay=False,\n",
    "    show=True,\n",
    "    tooltip=folium.GeoJsonTooltip(['Tract_Name_Full', 'SVI_Overall'])\n",
    ").add_to(map_master)\n",
    "\n",
    "# add the GeoJson to the map\n",
    "folium.GeoJson(\n",
    "    merged_NYC_tracts_SVI_json,\n",
    "    name='Population Density (Normalized)',\n",
    "    style_function=get_style2,\n",
    "    highlight_function=get_highlighted_style,\n",
    "    overlay = False,\n",
    "    tooltip=folium.GeoJsonTooltip(['Tract_Name_Full', 'Population_Density_normalized'])\n",
    ").add_to(map_master)\n",
    "\n",
    "# add the GeoJson to the map - HURRICANE ZONES AS PROXY FOR STORM SURGE\n",
    "folium.GeoJson(\n",
    "    hurricane_evac_zone1_json,\n",
    "    name='Hurricane Evacuation Zone',\n",
    "    style_function = lambda x: style3,\n",
    "    highlight_function=get_highlighted_style,\n",
    "    tooltip=folium.GeoJsonTooltip(['Zone']),\n",
    "    overlay = True\n",
    ").add_to(map_master)\n",
    "\n",
    "\n",
    "folium.GeoJson(\n",
    "    nodes_NYC_halfmile_json,\n",
    "    name=\"Accessible Nodes - 1/2 Mile\",\n",
    "    marker = folium.CircleMarker(radius = 2,\n",
    "                                 weight = 0, #outline weight\n",
    "                                 fill_color = 'black', \n",
    "                                 fill_opacity = 0.4),\n",
    "    highlight_function=get_highlighted_style,\n",
    "    tooltip=folium.GeoJsonTooltip(['Distance']),\n",
    ").add_to(map_master)\n",
    "\n",
    "folium.LayerControl().add_to(map_master)\n",
    "\n",
    "\n",
    "\n",
    "# avoid a rendering bug by saving as HTML and re-loading\n",
    "map_master.save('folium_map_final.html')"
   ]
  },
  {
   "cell_type": "code",
   "execution_count": 25,
   "metadata": {},
   "outputs": [
    {
     "data": {
      "text/html": [
       "\n",
       "        <iframe\n",
       "            width=\"800\"\n",
       "            height=\"600\"\n",
       "            src=\"folium_map_final.html\"\n",
       "            frameborder=\"0\"\n",
       "            allowfullscreen\n",
       "        ></iframe>\n",
       "        "
      ],
      "text/plain": [
       "<IPython.lib.display.IFrame at 0x23d929833a0>"
      ]
     },
     "execution_count": 25,
     "metadata": {},
     "output_type": "execute_result"
    }
   ],
   "source": [
    "from IPython.display import IFrame # loads HTML files\n",
    "filepath = 'folium_map_final.html'\n",
    "map_master.save(filepath)\n",
    "IFrame(filepath, width=800, height=600)"
   ]
  }
 ],
 "metadata": {
  "interpreter": {
   "hash": "f3790b1f72e0b8c577c4e01b5777e200a51dc40ef5ca62074570974715b18aef"
  },
  "kernelspec": {
   "display_name": "Python 3.8.12 64-bit ('musa-550-fall-2021': conda)",
   "language": "python",
   "name": "python3"
  },
  "language_info": {
   "codemirror_mode": {
    "name": "ipython",
    "version": 3
   },
   "file_extension": ".py",
   "mimetype": "text/x-python",
   "name": "python",
   "nbconvert_exporter": "python",
   "pygments_lexer": "ipython3",
   "version": "3.8.12"
  },
  "orig_nbformat": 4
 },
 "nbformat": 4,
 "nbformat_minor": 2
}
